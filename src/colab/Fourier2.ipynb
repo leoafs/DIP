{
  "nbformat": 4,
  "nbformat_minor": 0,
  "metadata": {
    "colab": {
      "name": "Fourier2.ipynb",
      "provenance": [],
      "mount_file_id": "1mdtN9JOlTPnbv-bZl15yUw2ZYSaozQhX",
      "authorship_tag": "ABX9TyO6Zx6D78dHftcj6Y4HzCaK",
      "include_colab_link": true
    },
    "kernelspec": {
      "name": "python3",
      "display_name": "Python 3"
    },
    "language_info": {
      "name": "python"
    }
  },
  "cells": [
    {
      "cell_type": "markdown",
      "metadata": {
        "id": "view-in-github",
        "colab_type": "text"
      },
      "source": [
        "<a href=\"https://colab.research.google.com/github/leoafs/DIP/blob/main/src/colab/Fourier2.ipynb\" target=\"_parent\"><img src=\"https://colab.research.google.com/assets/colab-badge.svg\" alt=\"Open In Colab\"/></a>"
      ]
    },
    {
      "cell_type": "code",
      "metadata": {
        "id": "FkXAHzaNqSn1"
      },
      "source": [
        "# import the necessary packages\n",
        "import matplotlib.pyplot as plt\n",
        "import numpy as np\n",
        "import cv2 as cv\n",
        "image1=cv.imread('/content/drive/MyDrive/images/img1.jpg',0)\n",
        "image2=cv.imread('/content/drive/MyDrive/images/img2.jpg',0)\n",
        "image3=cv.imread('/content/drive/MyDrive/images/img3.jpg',0)\n",
        "image=cv.imread('/content/drive/MyDrive/images/baboon.png',0)\n",
        "(h, w ) = image.shape\n",
        "\n"
      ],
      "execution_count": 66,
      "outputs": []
    },
    {
      "cell_type": "code",
      "metadata": {
        "id": "PQ_ojc3VcGsK",
        "colab": {
          "base_uri": "https://localhost:8080/"
        },
        "outputId": "d8e6f431-a0a2-4fa4-b4f5-4725d5482f87"
      },
      "source": [
        "\n",
        "def detect_blur_fft(image, size=60, thresh=10, vis=False):\n",
        "\t# grab the dimensions of the image and use the dimensions to\n",
        "\t# derive the center (x, y)-coordinates\n",
        "\t(h, w) = image.shape\n",
        "\t(cX, cY) = (int(w / 2.0), int(h / 2.0))\n",
        "  # compute the FFT to find the frequency transform, then shift\n",
        "\t# the zero frequency component (i.e., DC component located at\n",
        "\t# the top-left corner) to the center where it will be more\n",
        "\t# easy to analyze\n",
        "\tfft = np.fft.fft2(image)\n",
        "\tfftShift = np.fft.fftshift(fft)\n",
        "  # check to see if we are visualizing our output\n",
        "\tif vis:\n",
        "\t\t# compute the magnitude spectrum of the transform\n",
        "\t\tmagnitude = 20 * np.log(np.abs(fftShift))\n",
        "\t\t# display the original input image\n",
        "\t\t(fig, ax) = plt.subplots(1, 2, )\n",
        "\t\tax[0].imshow(image, cmap=\"gray\")\n",
        "\t\tax[0].set_title(\"Input\")\n",
        "\t\tax[0].set_xticks([])\n",
        "\t\tax[0].set_yticks([])\n",
        "\t\t# display the magnitude image\n",
        "\t\tax[1].imshow(magnitude, cmap=\"gray\")\n",
        "\t\tax[1].set_title(\"Magnitude Spectrum\")\n",
        "\t\tax[1].set_xticks([])\n",
        "\t\tax[1].set_yticks([])\n",
        "\t\t# show our plots\n",
        "\t\tplt.show()\n",
        "  # zero-out the center of the FFT shift (i.e., remove low\n",
        "\t# frequencies), apply the inverse shift such that the DC\n",
        "\t# component once again becomes the top-left, and then apply\n",
        "\t# the inverse FFT\n",
        "\tfftShift[cY - size:cY + size, cX - size:cX + size] = 0\n",
        "\tfftShift = np.fft.ifftshift(fftShift)\n",
        "\trecon = np.fft.ifft2(fftShift)\n",
        " # compute the magnitude spectrum of the reconstructed image,\n",
        "\t# then compute the mean of the magnitude values\n",
        "\tmagnitude = 20 * np.log(np.abs(recon))\n",
        "\tmean = np.mean(magnitude)\n",
        "\t# the image will be considered \"blurry\" if the mean value of the\n",
        "\t# magnitudes is less than the threshold value\n",
        "\treturn (mean, mean <= thresh)\n",
        "a=detect_blur_fft(image1, size=60, thresh=10, vis=False)\n",
        "b=detect_blur_fft(image2, size=60, thresh=10, vis=False)\n",
        "c=detect_blur_fft(image3, size=60, thresh=10, vis=False)\n",
        "print(a)\n",
        "print(b)\n",
        "print(c)\n"
      ],
      "execution_count": 77,
      "outputs": [
        {
          "output_type": "stream",
          "text": [
            "(31.63401740720476, False)\n",
            "(21.10991973996514, False)\n",
            "(12.385089986516006, False)\n"
          ],
          "name": "stdout"
        }
      ]
    },
    {
      "cell_type": "code",
      "metadata": {
        "id": "aXj6Zpi40W_a"
      },
      "source": [
        ""
      ],
      "execution_count": null,
      "outputs": []
    }
  ]
}