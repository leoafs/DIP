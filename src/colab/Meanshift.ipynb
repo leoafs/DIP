{
  "nbformat": 4,
  "nbformat_minor": 0,
  "metadata": {
    "colab": {
      "name": "Untitled2.ipynb",
      "provenance": [],
      "mount_file_id": "1zovmoz8zUlUiNrmBnQuQ77yej23XcSwH",
      "authorship_tag": "ABX9TyPBHV5bqlO3GOZnc4MySELq",
      "include_colab_link": true
    },
    "kernelspec": {
      "name": "python3",
      "display_name": "Python 3"
    },
    "language_info": {
      "name": "python"
    }
  },
  "cells": [
    {
      "cell_type": "markdown",
      "metadata": {
        "id": "view-in-github",
        "colab_type": "text"
      },
      "source": [
        "<a href=\"https://colab.research.google.com/github/leoafs/DIP/blob/main/src/colab/Meanshift.ipynb\" target=\"_parent\"><img src=\"https://colab.research.google.com/assets/colab-badge.svg\" alt=\"Open In Colab\"/></a>"
      ]
    },
    {
      "cell_type": "code",
      "metadata": {
        "id": "X1idnVvHuoGi"
      },
      "source": [
        "import numpy as np\n",
        "import cv2 as cv\n",
        "import argparse"
      ],
      "execution_count": 1,
      "outputs": []
    },
    {
      "cell_type": "code",
      "metadata": {
        "colab": {
          "base_uri": "https://localhost:8080/",
          "height": 189
        },
        "id": "AMM1dHxkumDo",
        "outputId": "d62eefed-51eb-4cba-a7f7-6f083bbc2f51"
      },
      "source": [
        "\n",
        "\n",
        "parser = argparse.ArgumentParser(description='/content/drive/MyDrive/images/slow_traffic_small.mp4')\n",
        "parser.add_argument('image', type=str, help='')\n",
        "args = parser.parse_args()\n",
        "\n",
        "cap = cv.VideoCapture(args.image)\n",
        "\n",
        "# take first frame of the video\n",
        "ret,frame = cap.read()\n",
        "\n",
        "# setup initial location of window\n",
        "x, y, w, h = 300, 200, 100, 50 # simply hardcoded the values\n",
        "track_window = (x, y, w, h)\n",
        "\n",
        "# set up the ROI for tracking\n",
        "roi = frame[y:y+h, x:x+w]\n",
        "hsv_roi =  cv.cvtColor(roi, cv.COLOR_BGR2HSV)\n",
        "mask = cv.inRange(hsv_roi, np.array((0., 60.,32.)), np.array((180.,255.,255.)))\n",
        "roi_hist = cv.calcHist([hsv_roi],[0],mask,[180],[0,180])\n",
        "cv.normalize(roi_hist,roi_hist,0,255,cv.NORM_MINMAX)\n",
        "\n",
        "# Setup the termination criteria, either 10 iteration or move by atleast 1 pt\n",
        "term_crit = ( cv.TERM_CRITERIA_EPS | cv.TERM_CRITERIA_COUNT, 10, 1 )\n",
        "\n",
        "while(1):\n",
        "    ret, frame = cap.read()\n",
        "\n",
        "    if ret == True:\n",
        "        hsv = cv.cvtColor(frame, cv.COLOR_BGR2HSV)\n",
        "        dst = cv.calcBackProject([hsv],[0],roi_hist,[0,180],1)\n",
        "\n",
        "        # apply meanshift to get the new location\n",
        "        ret, track_window = cv.meanShift(dst, track_window, term_crit)\n",
        "\n",
        "        # Draw it on image\n",
        "        x,y,w,h = track_window\n",
        "        img2 = cv.rectangle(frame, (x,y), (x+w,y+h), 255,2)\n",
        "        cv.imshow('img2',img2)\n",
        "\n",
        "        k = cv.waitKey(30) & 0xff\n",
        "        if k == 27:\n",
        "            break\n",
        "    else:\n",
        "        break"
      ],
      "execution_count": 14,
      "outputs": [
        {
          "output_type": "stream",
          "text": [
            "usage: ipykernel_launcher.py [-h] image\n",
            "ipykernel_launcher.py: error: unrecognized arguments: -f\n"
          ],
          "name": "stderr"
        },
        {
          "output_type": "error",
          "ename": "SystemExit",
          "evalue": "ignored",
          "traceback": [
            "An exception has occurred, use %tb to see the full traceback.\n",
            "\u001b[0;31mSystemExit\u001b[0m\u001b[0;31m:\u001b[0m 2\n"
          ]
        },
        {
          "output_type": "stream",
          "text": [
            "/usr/local/lib/python3.7/dist-packages/IPython/core/interactiveshell.py:2890: UserWarning: To exit: use 'exit', 'quit', or Ctrl-D.\n",
            "  warn(\"To exit: use 'exit', 'quit', or Ctrl-D.\", stacklevel=1)\n"
          ],
          "name": "stderr"
        }
      ]
    }
  ]
}