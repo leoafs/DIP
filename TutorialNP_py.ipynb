{
  "nbformat": 4,
  "nbformat_minor": 0,
  "metadata": {
    "colab": {
      "name": "TutorialNP.py",
      "provenance": [],
      "authorship_tag": "ABX9TyNKW8j2HxWh6c/c7PVsLkFb",
      "include_colab_link": true
    },
    "kernelspec": {
      "name": "python3",
      "display_name": "Python 3"
    },
    "language_info": {
      "name": "python"
    }
  },
  "cells": [
    {
      "cell_type": "markdown",
      "metadata": {
        "id": "view-in-github",
        "colab_type": "text"
      },
      "source": [
        "<a href=\"https://colab.research.google.com/github/leoafs/DIP/blob/main/TutorialNP_py.ipynb\" target=\"_parent\"><img src=\"https://colab.research.google.com/assets/colab-badge.svg\" alt=\"Open In Colab\"/></a>"
      ]
    },
    {
      "cell_type": "markdown",
      "metadata": {
        "id": "ob3o0kUP9kZZ"
      },
      "source": [
        "**NumPy Array**"
      ]
    },
    {
      "cell_type": "code",
      "metadata": {
        "id": "i728UWTVXv8R"
      },
      "source": [
        "import numpy as np\n"
      ],
      "execution_count": 42,
      "outputs": []
    },
    {
      "cell_type": "markdown",
      "metadata": {
        "id": "LN-gaNfXYC1N"
      },
      "source": [
        "* How to create an empty and a full NumPy array?\n",
        "\n"
      ]
    },
    {
      "cell_type": "code",
      "metadata": {
        "colab": {
          "base_uri": "https://localhost:8080/"
        },
        "id": "e0Z9KmQwYJCd",
        "outputId": "d1d36983-6a4b-4fee-d10c-2bddf7e62248"
      },
      "source": [
        "a = np.empty(shape=2)\n",
        "print(\"Empty\")\n",
        "print(a)\n",
        "\n",
        "b = np.full([3, 3], 55)\n",
        "print(\"FULL\")\n",
        "print(b)"
      ],
      "execution_count": null,
      "outputs": [
        {
          "output_type": "stream",
          "text": [
            "Empty\n",
            "[4.65919951e-310 0.00000000e+000]\n",
            "FULL\n",
            "[[55 55 55]\n",
            " [55 55 55]\n",
            " [55 55 55]]\n"
          ],
          "name": "stdout"
        }
      ]
    },
    {
      "cell_type": "markdown",
      "metadata": {
        "id": "rJDdXLUiYKKu"
      },
      "source": [
        "* Create a Numpy array filled with all zeros"
      ]
    },
    {
      "cell_type": "code",
      "metadata": {
        "colab": {
          "base_uri": "https://localhost:8080/"
        },
        "id": "j26LsWFMYNc_",
        "outputId": "8c453165-dae7-4c6e-98b6-5a6a95cf6cf8"
      },
      "source": [
        "zeros=np.zeros((5,5))\n",
        "print(zeros)"
      ],
      "execution_count": null,
      "outputs": [
        {
          "output_type": "stream",
          "text": [
            "[[0. 0. 0. 0. 0.]\n",
            " [0. 0. 0. 0. 0.]\n",
            " [0. 0. 0. 0. 0.]\n",
            " [0. 0. 0. 0. 0.]\n",
            " [0. 0. 0. 0. 0.]]\n"
          ],
          "name": "stdout"
        }
      ]
    },
    {
      "cell_type": "markdown",
      "metadata": {
        "id": "2zaQi4NrY-RA"
      },
      "source": [
        "* Create a Numpy array filled with all ones\n"
      ]
    },
    {
      "cell_type": "code",
      "metadata": {
        "colab": {
          "base_uri": "https://localhost:8080/"
        },
        "id": "FwOYZ_TuY_pw",
        "outputId": "bd983366-0556-4df1-dee7-86de2723fce9"
      },
      "source": [
        "ones=np.ones((5,5))\n",
        "print(ones)"
      ],
      "execution_count": null,
      "outputs": [
        {
          "output_type": "stream",
          "text": [
            "[[1. 1. 1. 1. 1.]\n",
            " [1. 1. 1. 1. 1.]\n",
            " [1. 1. 1. 1. 1.]\n",
            " [1. 1. 1. 1. 1.]\n",
            " [1. 1. 1. 1. 1.]]\n"
          ],
          "name": "stdout"
        }
      ]
    },
    {
      "cell_type": "markdown",
      "metadata": {
        "id": "fJ8MnXyudV_w"
      },
      "source": [
        "* Check whether a Numpy array contains a specified row\n"
      ]
    },
    {
      "cell_type": "code",
      "metadata": {
        "colab": {
          "base_uri": "https://localhost:8080/"
        },
        "id": "0ZnKBKH8eDM2",
        "outputId": "151d6e20-f411-45e4-c0ca-5ca54a5feafd"
      },
      "source": [
        "num = np.arange(10)\n",
        "arr1 = np.reshape(num, [5, 2])\n",
        "print(\"Original array:\")\n",
        "print(arr1)\n",
        "print([0, 1] in arr1.tolist())\n",
        "print([0,2] in arr1.tolist())\n",
        "print([1,1] in arr1.tolist())"
      ],
      "execution_count": null,
      "outputs": [
        {
          "output_type": "stream",
          "text": [
            "Original array:\n",
            "[[0 1]\n",
            " [2 3]\n",
            " [4 5]\n",
            " [6 7]\n",
            " [8 9]]\n",
            "True\n",
            "False\n",
            "False\n"
          ],
          "name": "stdout"
        }
      ]
    },
    {
      "cell_type": "markdown",
      "metadata": {
        "id": "kblDPQNieDxf"
      },
      "source": [
        "* How to Remove rows in Numpy array that contains non-numeric values?\n"
      ]
    },
    {
      "cell_type": "code",
      "metadata": {
        "colab": {
          "base_uri": "https://localhost:8080/"
        },
        "id": "O7eN5y1Xf_TB",
        "outputId": "3f0936f3-9714-4859-d62f-95524d6f1a71"
      },
      "source": [
        "a = np.array([[10.5, 22.5, np.nan],\n",
        "                  [41, 52.5, 1],[1 , 1 ,1]])\n",
        "a[~np.isnan(a).any(axis=1)]\n",
        "print(a[~np.isnan(a).any(axis=1)])"
      ],
      "execution_count": null,
      "outputs": [
        {
          "output_type": "stream",
          "text": [
            "[[41.  52.5  1. ]\n",
            " [ 1.   1.   1. ]]\n"
          ],
          "name": "stdout"
        }
      ]
    },
    {
      "cell_type": "markdown",
      "metadata": {
        "id": "Uu24uezBi1dK"
      },
      "source": [
        "\n",
        "* Remove single-dimensional entries from the shape of an array\n",
        "\n",
        "\n"
      ]
    },
    {
      "cell_type": "code",
      "metadata": {
        "colab": {
          "base_uri": "https://localhost:8080/"
        },
        "id": "NB2oMiImi1wy",
        "outputId": "825d34ad-e9c0-4994-bf79-1845d9a5e69f"
      },
      "source": [
        "x = np.zeros((3, 1, 4,3,1,6))\n",
        "print(np.squeeze(x).shape)\n",
        "\n"
      ],
      "execution_count": null,
      "outputs": [
        {
          "output_type": "stream",
          "text": [
            "(3, 4, 3, 6)\n"
          ],
          "name": "stdout"
        }
      ]
    },
    {
      "cell_type": "markdown",
      "metadata": {
        "id": "Rv49X3mTi17Z"
      },
      "source": [
        "* Find the number of occurrences of a sequence in a NumPy array\n"
      ]
    },
    {
      "cell_type": "code",
      "metadata": {
        "id": "fsl54mYsi2ER",
        "colab": {
          "base_uri": "https://localhost:8080/"
        },
        "outputId": "af6fdd85-8d89-41fb-a0d9-2a12abf8c9dd"
      },
      "source": [
        "a = np.array([[2, 1, 9, 1], [8, 5, 9, 1],[9, 4, 9, 1],[4, 9, 4, 5],[9, 4, 9, 4]])\n",
        "  \n",
        "p= repr(a).count(\"9, 4\")\n",
        "  \n",
        "print(p)"
      ],
      "execution_count": 54,
      "outputs": [
        {
          "output_type": "stream",
          "text": [
            "4\n"
          ],
          "name": "stdout"
        }
      ]
    },
    {
      "cell_type": "markdown",
      "metadata": {
        "id": "uuYoAkBwi2L5"
      },
      "source": [
        "* Find the most frequent value in a NumPy array"
      ]
    },
    {
      "cell_type": "code",
      "metadata": {
        "id": "9oe45m5gi2Tx",
        "colab": {
          "base_uri": "https://localhost:8080/"
        },
        "outputId": "9ef8f996-77fc-47d5-cb5a-0bd801334a42"
      },
      "source": [
        "x = np.array([1, 1, 1, 2, 3, 4, 2, 4, 3, 3, ])\n",
        "print(x)\n",
        "y = np.bincount(x)\n",
        "m = max(y)  \n",
        "print()\n",
        "for i in range(len(y)):\n",
        "    if y[i] == m:\n",
        "        print(i, end=\" \")"
      ],
      "execution_count": 62,
      "outputs": [
        {
          "output_type": "stream",
          "text": [
            "[1 1 1 2 3 4 2 4 3 3]\n",
            "\n",
            "1 3 "
          ],
          "name": "stdout"
        }
      ]
    },
    {
      "cell_type": "markdown",
      "metadata": {
        "id": "daMXetTMi2Zz"
      },
      "source": [
        "* Combining a one and a two-dimensional NumPy Array"
      ]
    },
    {
      "cell_type": "code",
      "metadata": {
        "id": "QKGHpcBFi2fp",
        "colab": {
          "base_uri": "https://localhost:8080/"
        },
        "outputId": "6f41ac64-7eeb-40b4-e01b-bdc32499e971"
      },
      "source": [
        "Array1d = np.arange(5)\n",
        "print(Array1d)\n",
        "  \n",
        "Array2d = np.arange(10).reshape(2,5)\n",
        "print(Array2d)\n",
        "for a, b in np.nditer([Array1d, Array2d]):\n",
        "    print(\"%d:%d\" % (a, b),)"
      ],
      "execution_count": 64,
      "outputs": [
        {
          "output_type": "stream",
          "text": [
            "[0 1 2 3 4]\n",
            "[[0 1 2 3 4]\n",
            " [5 6 7 8 9]]\n",
            "0:0\n",
            "1:1\n",
            "2:2\n",
            "3:3\n",
            "4:4\n",
            "0:5\n",
            "1:6\n",
            "2:7\n",
            "3:8\n",
            "4:9\n"
          ],
          "name": "stdout"
        }
      ]
    },
    {
      "cell_type": "markdown",
      "metadata": {
        "id": "WqJoIK6Wi2lp"
      },
      "source": [
        "* How to build an array of all combinations of two NumPy arrays?"
      ]
    },
    {
      "cell_type": "code",
      "metadata": {
        "id": "_rTv9u1ni2rR",
        "colab": {
          "base_uri": "https://localhost:8080/"
        },
        "outputId": "565e2b95-281a-4730-a5b8-2b140f7f666e"
      },
      "source": [
        "array1 = np.array([3, 2])\n",
        "array2 = np.array([1, 4])\n",
        "  \n",
        "print(\"Array1\")\n",
        "print(array1)\n",
        "  \n",
        "print(\"\\nArray2\")\n",
        "print(array2)\n",
        "\n",
        "comb_array = np.array(np.meshgrid(array_1, array_2)).T.reshape(-1, 2)\n",
        "  \n",
        "print(\"\\nCombine array:\")\n",
        "print(comb_array)"
      ],
      "execution_count": 67,
      "outputs": [
        {
          "output_type": "stream",
          "text": [
            "Array1\n",
            "[3 2]\n",
            "\n",
            "Array2\n",
            "[1 4]\n",
            "\n",
            "Combine array:\n",
            "[[3 1]\n",
            " [3 4]\n",
            " [2 1]\n",
            " [2 4]]\n"
          ],
          "name": "stdout"
        }
      ]
    },
    {
      "cell_type": "markdown",
      "metadata": {
        "id": "wHhdC5Lmi2xx"
      },
      "source": [
        "* How to add a border around a NumPy array?"
      ]
    },
    {
      "cell_type": "code",
      "metadata": {
        "id": "C0TeDuUmi23k",
        "colab": {
          "base_uri": "https://localhost:8080/"
        },
        "outputId": "658d7b52-b154-46f1-f029-7a0379561df4"
      },
      "source": [
        "a = np.ones((4, 4))\n",
        "print(a)\n",
        "\n",
        "a = np.pad(a, pad_width=1, mode='constant',\n",
        "               constant_values=0)\n",
        "  \n",
        "print(a)"
      ],
      "execution_count": 71,
      "outputs": [
        {
          "output_type": "stream",
          "text": [
            "[[1. 1. 1. 1.]\n",
            " [1. 1. 1. 1.]\n",
            " [1. 1. 1. 1.]\n",
            " [1. 1. 1. 1.]]\n",
            "[[0. 0. 0. 0. 0. 0.]\n",
            " [0. 1. 1. 1. 1. 0.]\n",
            " [0. 1. 1. 1. 1. 0.]\n",
            " [0. 1. 1. 1. 1. 0.]\n",
            " [0. 1. 1. 1. 1. 0.]\n",
            " [0. 0. 0. 0. 0. 0.]]\n"
          ],
          "name": "stdout"
        }
      ]
    },
    {
      "cell_type": "markdown",
      "metadata": {
        "id": "Lfnn5bKCi29p"
      },
      "source": [
        "* How to compare two NumPy arrays?\n"
      ]
    },
    {
      "cell_type": "code",
      "metadata": {
        "id": "TeCeC0Y8i3DP",
        "colab": {
          "base_uri": "https://localhost:8080/"
        },
        "outputId": "7cbc0e06-48f8-4538-a6c4-ec8ecad71649"
      },
      "source": [
        "a = np.array([[1,2],[3,4]])\n",
        "b = np.array([[1,2],[3,4]])\n",
        "\n",
        "comparison = b == b\n",
        "print(comparison)\n",
        "equal_arrays = comparison.all()\n",
        "print(equal_arrays)\n"
      ],
      "execution_count": 77,
      "outputs": [
        {
          "output_type": "stream",
          "text": [
            "[[ True  True]\n",
            " [ True  True]]\n",
            "True\n"
          ],
          "name": "stdout"
        }
      ]
    },
    {
      "cell_type": "markdown",
      "metadata": {
        "id": "RlFccNY7i3Ij"
      },
      "source": [
        "* How to check whether specified values are present in NumPy array?"
      ]
    },
    {
      "cell_type": "code",
      "metadata": {
        "id": "cLMrPczri3OK",
        "colab": {
          "base_uri": "https://localhost:8080/"
        },
        "outputId": "7dea4f5a-b865-4d4b-c494-568c6cf27983"
      },
      "source": [
        "a = np.array([[1, 4, 0],[3, 1, 4]])\n",
        "print(2 in a)\n",
        "print(0 in a)\n",
        "print(6 in a)\n",
        "print(50 in a)\n",
        "print(4 in a)"
      ],
      "execution_count": 81,
      "outputs": [
        {
          "output_type": "stream",
          "text": [
            "False\n",
            "True\n",
            "False\n",
            "False\n",
            "True\n"
          ],
          "name": "stdout"
        }
      ]
    },
    {
      "cell_type": "markdown",
      "metadata": {
        "id": "acRy3au6i3Uc"
      },
      "source": [
        "* How to get all 2D diagonals of a 3D NumPy array?"
      ]
    },
    {
      "cell_type": "code",
      "metadata": {
        "id": "gV1XCLb6i3aJ",
        "colab": {
          "base_uri": "https://localhost:8080/"
        },
        "outputId": "9ab21a67-f2f6-4e93-fd67-0d327b3dfab5"
      },
      "source": [
        "arr = np.arange(3 * 4 * 4).reshape(3, 4, 4)\n",
        "print(arr)\n",
        "\n",
        "diag_arr = np.diagonal(arr, \n",
        "                       axis1 = 1,\n",
        "                       axis2 = 2)\n",
        "  \n",
        "print(\"2d diagonal array:\\n\", \n",
        "      diag_arr)\n"
      ],
      "execution_count": 83,
      "outputs": [
        {
          "output_type": "stream",
          "text": [
            "[[[ 0  1  2  3]\n",
            "  [ 4  5  6  7]\n",
            "  [ 8  9 10 11]\n",
            "  [12 13 14 15]]\n",
            "\n",
            " [[16 17 18 19]\n",
            "  [20 21 22 23]\n",
            "  [24 25 26 27]\n",
            "  [28 29 30 31]]\n",
            "\n",
            " [[32 33 34 35]\n",
            "  [36 37 38 39]\n",
            "  [40 41 42 43]\n",
            "  [44 45 46 47]]]\n",
            "2d diagonal array:\n",
            " [[ 0  5 10 15]\n",
            " [16 21 26 31]\n",
            " [32 37 42 47]]\n"
          ],
          "name": "stdout"
        }
      ]
    },
    {
      "cell_type": "markdown",
      "metadata": {
        "id": "qRri-gQHi3gC"
      },
      "source": [
        "* Flatten a Matrix in Python using NumPy"
      ]
    },
    {
      "cell_type": "code",
      "metadata": {
        "id": "xt2rB83tk_AZ",
        "colab": {
          "base_uri": "https://localhost:8080/"
        },
        "outputId": "53c10401-20c3-4245-b3c8-52303e223691"
      },
      "source": [
        "a=np.array([[1,2],[2,3]])\n",
        "print(a.flatten())\n"
      ],
      "execution_count": 89,
      "outputs": [
        {
          "output_type": "stream",
          "text": [
            "[1 2 2 3]\n"
          ],
          "name": "stdout"
        }
      ]
    },
    {
      "cell_type": "markdown",
      "metadata": {
        "id": "JgIsMsnHlDyg"
      },
      "source": [
        "* Flatten a 2d numpy array into 1d array"
      ]
    },
    {
      "cell_type": "code",
      "metadata": {
        "id": "yILYLcKOlAfW",
        "colab": {
          "base_uri": "https://localhost:8080/"
        },
        "outputId": "2e346cb3-604f-4693-e0de-439c05c7a09a"
      },
      "source": [
        "a=np.array([[1,2],[2,3],[1 , 1]])\n",
        "print(a.flatten())"
      ],
      "execution_count": 90,
      "outputs": [
        {
          "output_type": "stream",
          "text": [
            "[1 2 2 3 1 1]\n"
          ],
          "name": "stdout"
        }
      ]
    },
    {
      "cell_type": "markdown",
      "metadata": {
        "id": "TVDFOW_NlKKh"
      },
      "source": [
        "* Move axes of an array to new positions"
      ]
    },
    {
      "cell_type": "code",
      "metadata": {
        "id": "01IHRmI1lAxl",
        "colab": {
          "base_uri": "https://localhost:8080/"
        },
        "outputId": "a68e7933-63cf-4c03-d4f1-f6e5d22a1b8a"
      },
      "source": [
        "a = np.zeros((1, 2, 3, 4))\n",
        "  \n",
        "b = np.moveaxis(arr, 0, -1).shape\n",
        "  \n",
        "print (b)"
      ],
      "execution_count": 94,
      "outputs": [
        {
          "output_type": "stream",
          "text": [
            "(2, 3, 4, 1)\n"
          ],
          "name": "stdout"
        }
      ]
    },
    {
      "cell_type": "markdown",
      "metadata": {
        "id": "bVxfAglolPra"
      },
      "source": [
        "* Interchange two axes of an array"
      ]
    },
    {
      "cell_type": "code",
      "metadata": {
        "id": "jVKQ8TlSlBQd",
        "colab": {
          "base_uri": "https://localhost:8080/"
        },
        "outputId": "39c150ff-9f0f-4211-f584-4238cc38a344"
      },
      "source": [
        "x = np.array([[1,2,3]])\n",
        "print(x)\n",
        "y =  np.swapaxes(x,0,1)\n",
        "print(y)"
      ],
      "execution_count": 95,
      "outputs": [
        {
          "output_type": "stream",
          "text": [
            "[[1 2 3]]\n",
            "[[1]\n",
            " [2]\n",
            " [3]]\n"
          ],
          "name": "stdout"
        }
      ]
    },
    {
      "cell_type": "markdown",
      "metadata": {
        "id": "aoapxJ4FlWCE"
      },
      "source": [
        "* NumPy – Fibonacci Series using Binet Formula"
      ]
    },
    {
      "cell_type": "code",
      "metadata": {
        "id": "3tDvI7sCi5b7",
        "colab": {
          "base_uri": "https://localhost:8080/"
        },
        "outputId": "7d0b11f4-ea5d-4e89-e9e7-e8491d42829f"
      },
      "source": [
        "a = np.arange(1, 11)\n",
        "lengthA = len(a)\n",
        "sqrtFive = np.sqrt(5)\n",
        "alpha = (1 + sqrtFive) / 2\n",
        "beta = (1 - sqrtFive) / 2\n",
        "Fn = np.rint(((alpha ** a) - (beta ** a)) / (sqrtFive))\n",
        "print(\"os primeiros {} valores da série{} . \".format(lengthA, Fn))"
      ],
      "execution_count": 97,
      "outputs": [
        {
          "output_type": "stream",
          "text": [
            "os primeiros 10 valores da série[ 1.  1.  2.  3.  5.  8. 13. 21. 34. 55.] . \n"
          ],
          "name": "stdout"
        }
      ]
    },
    {
      "cell_type": "markdown",
      "metadata": {
        "id": "10xaD_dNlb7v"
      },
      "source": [
        "* Counts the number of non-zero values in the array"
      ]
    },
    {
      "cell_type": "code",
      "metadata": {
        "id": "rdYvNLrLlcKi",
        "colab": {
          "base_uri": "https://localhost:8080/"
        },
        "outputId": "cea438e2-408d-4797-f661-e10da05a0021"
      },
      "source": [
        "a = [[0, 1, 2, 0, 0], [0, 4, 0, 0, 1]]\n",
        "  \n",
        "b = np.count_nonzero(a)\n",
        "  \n",
        "print (b) "
      ],
      "execution_count": 102,
      "outputs": [
        {
          "output_type": "stream",
          "text": [
            "4\n"
          ],
          "name": "stdout"
        }
      ]
    },
    {
      "cell_type": "markdown",
      "metadata": {
        "id": "iWz6hlMDlcVP"
      },
      "source": [
        "* Count the number of elements along a given axis\n"
      ]
    },
    {
      "cell_type": "code",
      "metadata": {
        "id": "Q4qqGKsjlcd2",
        "colab": {
          "base_uri": "https://localhost:8080/"
        },
        "outputId": "6e21a355-89de-4369-9223-31be744d7028"
      },
      "source": [
        "a = np.array([[1, 22, 41, 41], [3, 6,47, 1]])\n",
        "print(np.size(a))"
      ],
      "execution_count": 103,
      "outputs": [
        {
          "output_type": "stream",
          "text": [
            "8\n"
          ],
          "name": "stdout"
        }
      ]
    },
    {
      "cell_type": "markdown",
      "metadata": {
        "id": "XOrKpGLAlcpX"
      },
      "source": [
        "* Trim the leading and/or trailing zeros from a 1-D array"
      ]
    },
    {
      "cell_type": "code",
      "metadata": {
        "id": "OCzSeZU2lcw_",
        "colab": {
          "base_uri": "https://localhost:8080/"
        },
        "outputId": "56517fd6-d215-4399-dc4f-d487c5422c3c"
      },
      "source": [
        "a = np.array ((0, 0, 0, 7, 2, 3, 7, 4, 2, 0))\n",
        "print(np.trim_zeros (a))"
      ],
      "execution_count": 106,
      "outputs": [
        {
          "output_type": "stream",
          "text": [
            "[7 2 3 7 4 2]\n"
          ],
          "name": "stdout"
        }
      ]
    },
    {
      "cell_type": "markdown",
      "metadata": {
        "id": "P8D3OAYFlc6y"
      },
      "source": [
        "* Change data type of given numpy array"
      ]
    },
    {
      "cell_type": "code",
      "metadata": {
        "id": "8PT5Uv4lldCX",
        "colab": {
          "base_uri": "https://localhost:8080/"
        },
        "outputId": "84c06ee6-d25a-479d-8d6f-b6cffbc9abbe"
      },
      "source": [
        "a = np.ones([2,2])\n",
        "print(a)\n",
        "print(a.dtype)\n",
        "a=a.astype('int')\n",
        "print(a)\n",
        "print(a.dtype)\n"
      ],
      "execution_count": 114,
      "outputs": [
        {
          "output_type": "stream",
          "text": [
            "[[1. 1.]\n",
            " [1. 1.]]\n",
            "float64\n",
            "[[1 1]\n",
            " [1 1]]\n",
            "int64\n"
          ],
          "name": "stdout"
        }
      ]
    },
    {
      "cell_type": "markdown",
      "metadata": {
        "id": "D3G3zlfAldJM"
      },
      "source": [
        "* Reverse a numpy array"
      ]
    },
    {
      "cell_type": "code",
      "metadata": {
        "id": "FOlaWZNlldPp",
        "colab": {
          "base_uri": "https://localhost:8080/"
        },
        "outputId": "15eb4871-7dc7-491c-e272-06edaccac54a"
      },
      "source": [
        "a= np.array([1, 2, 3,4, 5])\n",
        "  \n",
        "print(a)\n",
        " \n",
        "b = a[::-1]\n",
        "  \n",
        "print(b)"
      ],
      "execution_count": 122,
      "outputs": [
        {
          "output_type": "stream",
          "text": [
            "[1 2 3 4 5]\n",
            "[5 4 3 2 1]\n"
          ],
          "name": "stdout"
        }
      ]
    },
    {
      "cell_type": "markdown",
      "metadata": {
        "id": "P-UPqNgrtCH7"
      },
      "source": [
        "* How to make a NumPy array read-only?"
      ]
    },
    {
      "cell_type": "code",
      "metadata": {
        "id": "yE6B9MGEtDd8",
        "colab": {
          "base_uri": "https://localhost:8080/",
          "height": 316
        },
        "outputId": "3012d904-1d91-4cf5-e7f9-31973a2c609a"
      },
      "source": [
        "a = np.zeros(11)\n",
        "print(\"antes \")\n",
        "print(a)\n",
        "print( \"depois\")\n",
        "a[0]=1\n",
        "print(a)\n",
        "print(\"antes\")\n",
        "a.flags.writeable = False\n",
        "print(a)\n",
        "print(\"depois\")\n",
        "a[1]=2"
      ],
      "execution_count": 128,
      "outputs": [
        {
          "output_type": "stream",
          "text": [
            "antes \n",
            "[0. 0. 0. 0. 0. 0. 0. 0. 0. 0. 0.]\n",
            "depois\n",
            "[1. 0. 0. 0. 0. 0. 0. 0. 0. 0. 0.]\n",
            "antes\n",
            "[1. 0. 0. 0. 0. 0. 0. 0. 0. 0. 0.]\n",
            "depois\n"
          ],
          "name": "stdout"
        },
        {
          "output_type": "error",
          "ename": "ValueError",
          "evalue": "ignored",
          "traceback": [
            "\u001b[0;31m---------------------------------------------------------------------------\u001b[0m",
            "\u001b[0;31mValueError\u001b[0m                                Traceback (most recent call last)",
            "\u001b[0;32m<ipython-input-128-4a620befb1f6>\u001b[0m in \u001b[0;36m<module>\u001b[0;34m()\u001b[0m\n\u001b[1;32m      9\u001b[0m \u001b[0mprint\u001b[0m\u001b[0;34m(\u001b[0m\u001b[0ma\u001b[0m\u001b[0;34m)\u001b[0m\u001b[0;34m\u001b[0m\u001b[0;34m\u001b[0m\u001b[0m\n\u001b[1;32m     10\u001b[0m \u001b[0mprint\u001b[0m\u001b[0;34m(\u001b[0m\u001b[0;34m\"depois\"\u001b[0m\u001b[0;34m)\u001b[0m\u001b[0;34m\u001b[0m\u001b[0;34m\u001b[0m\u001b[0m\n\u001b[0;32m---> 11\u001b[0;31m \u001b[0ma\u001b[0m\u001b[0;34m[\u001b[0m\u001b[0;36m1\u001b[0m\u001b[0;34m]\u001b[0m\u001b[0;34m=\u001b[0m\u001b[0;36m2\u001b[0m\u001b[0;34m\u001b[0m\u001b[0;34m\u001b[0m\u001b[0m\n\u001b[0m",
            "\u001b[0;31mValueError\u001b[0m: assignment destination is read-only"
          ]
        }
      ]
    },
    {
      "cell_type": "markdown",
      "metadata": {
        "id": "oNv_qjgUtI7c"
      },
      "source": [
        "**Questions on NumPy Matrix**"
      ]
    },
    {
      "cell_type": "markdown",
      "metadata": {
        "id": "fryVkMBc-Csk"
      },
      "source": [
        "* Get the maximum value from given matrix"
      ]
    },
    {
      "cell_type": "code",
      "metadata": {
        "id": "3pqScI2EtJOL",
        "colab": {
          "base_uri": "https://localhost:8080/"
        },
        "outputId": "ec0352bf-70c8-4329-fa56-1da601e9e184"
      },
      "source": [
        "a=np.array([[1,2,5,4,3],[1,1,10,5,3]])\n",
        "b=np.max(a)\n",
        "print(b)"
      ],
      "execution_count": 133,
      "outputs": [
        {
          "output_type": "stream",
          "text": [
            "10\n"
          ],
          "name": "stdout"
        }
      ]
    },
    {
      "cell_type": "markdown",
      "metadata": {
        "id": "HIXod6ps-HGf"
      },
      "source": [
        "* Get the minimum value from given matrix"
      ]
    },
    {
      "cell_type": "code",
      "metadata": {
        "colab": {
          "base_uri": "https://localhost:8080/"
        },
        "id": "99oroX9l-Mhp",
        "outputId": "190bf4cc-a38b-427c-dfd0-02afdaa17a3e"
      },
      "source": [
        "a=np.array([[-1,2,5,4,3],[1,1,10,5,3]])\n",
        "b=np.min(a)\n",
        "print(b)"
      ],
      "execution_count": 135,
      "outputs": [
        {
          "output_type": "stream",
          "text": [
            "-1\n"
          ],
          "name": "stdout"
        }
      ]
    },
    {
      "cell_type": "markdown",
      "metadata": {
        "id": "GilSkRUO-M9f"
      },
      "source": [
        "* Find the number of rows and columns of a given matrix using NumPy"
      ]
    },
    {
      "cell_type": "code",
      "metadata": {
        "colab": {
          "base_uri": "https://localhost:8080/"
        },
        "id": "XpGlnAXs-QUY",
        "outputId": "40adf481-2b62-4f5a-901b-e2a4bdf35210"
      },
      "source": [
        "a=np.array([[10,11,12,13],[14,15,16,17],[18,19,20,21]])\n",
        "print(a)\n",
        "print(a.shape)"
      ],
      "execution_count": 147,
      "outputs": [
        {
          "output_type": "stream",
          "text": [
            "[[10 11 12 13]\n",
            " [14 15 16 17]\n",
            " [18 19 20 21]]\n",
            "(3, 4)\n"
          ],
          "name": "stdout"
        }
      ]
    },
    {
      "cell_type": "markdown",
      "metadata": {
        "id": "QGTvSxFLFkCX"
      },
      "source": [
        "* Select the elements from a given matrix\n",
        "\n"
      ]
    },
    {
      "cell_type": "code",
      "metadata": {
        "id": "4_TTcOcWFkPO"
      },
      "source": [
        ""
      ],
      "execution_count": null,
      "outputs": []
    },
    {
      "cell_type": "markdown",
      "metadata": {
        "id": "4hiL6smC_ZSa"
      },
      "source": [
        "* Find the sum of values in a matrix"
      ]
    },
    {
      "cell_type": "code",
      "metadata": {
        "colab": {
          "base_uri": "https://localhost:8080/"
        },
        "id": "lxStl2Hz_brI",
        "outputId": "46e5c104-4218-4492-f0c0-50f058778ecd"
      },
      "source": [
        "a=np.array([[1,2],[2,3]])\n",
        "print('A')\n",
        "print(a)\n",
        "print(\"Soma\")\n",
        "b=a.sum()\n",
        "print(b)\n"
      ],
      "execution_count": 166,
      "outputs": [
        {
          "output_type": "stream",
          "text": [
            "A\n",
            "[[1 2]\n",
            " [2 3]]\n",
            "Soma\n",
            "8\n"
          ],
          "name": "stdout"
        }
      ]
    },
    {
      "cell_type": "markdown",
      "metadata": {
        "id": "Fngj2jMn_ch6"
      },
      "source": [
        "* Calculate the sum of the diagonal elements of a NumPy array"
      ]
    },
    {
      "cell_type": "code",
      "metadata": {
        "colab": {
          "base_uri": "https://localhost:8080/"
        },
        "id": "l_RreUCMAPWs",
        "outputId": "721a5524-a0aa-4c50-ca3f-e4875bbab33b"
      },
      "source": [
        "a=np.array([[1,2],[2,3]])\n",
        "b=a.diagonal()\n",
        "print(b)\n",
        "print(b.sum())"
      ],
      "execution_count": 169,
      "outputs": [
        {
          "output_type": "stream",
          "text": [
            "[1 3]\n",
            "4\n"
          ],
          "name": "stdout"
        }
      ]
    },
    {
      "cell_type": "markdown",
      "metadata": {
        "id": "-p9hnqamAi5C"
      },
      "source": [
        "* Adding and Subtracting Matrices in Python"
      ]
    },
    {
      "cell_type": "code",
      "metadata": {
        "colab": {
          "base_uri": "https://localhost:8080/"
        },
        "id": "M1oBdTb7AnsY",
        "outputId": "b08caf11-8fe0-4296-bb22-ee5f38cc2f6e"
      },
      "source": [
        "a=np.array([[1,2],[2,3]])\n",
        "b=np.array([[1,4],[1,3]])\n",
        "print(a)\n",
        "print(b)\n",
        "c=a+b\n",
        "d=a-b\n",
        "print(\"sum\")\n",
        "print(c)\n",
        "print(\"sub\")\n",
        "print(d)\n"
      ],
      "execution_count": 171,
      "outputs": [
        {
          "output_type": "stream",
          "text": [
            "[[1 2]\n",
            " [2 3]]\n",
            "[[1 4]\n",
            " [1 3]]\n",
            "sum\n",
            "[[2 6]\n",
            " [3 6]]\n",
            "sub\n",
            "[[ 0 -2]\n",
            " [ 1  0]]\n"
          ],
          "name": "stdout"
        }
      ]
    },
    {
      "cell_type": "markdown",
      "metadata": {
        "id": "9qRopkB9AoIp"
      },
      "source": [
        "* Ways to add row/columns in numpy array"
      ]
    },
    {
      "cell_type": "code",
      "metadata": {
        "colab": {
          "base_uri": "https://localhost:8080/"
        },
        "id": "bZjdPCP-AoUZ",
        "outputId": "b5f5df71-c94f-46b3-d325-4f0083d1f34d"
      },
      "source": [
        "a=np.array([[1,2],[2,3]])\n",
        "print(a)\n",
        "b=np.array([17,8])\n",
        "print(b)\n",
        "a=np.vstack([a,b])\n",
        "print(a)"
      ],
      "execution_count": 191,
      "outputs": [
        {
          "output_type": "stream",
          "text": [
            "[[1 2]\n",
            " [2 3]]\n",
            "[17  8]\n",
            "[[ 1  2]\n",
            " [ 2  3]\n",
            " [17  8]]\n"
          ],
          "name": "stdout"
        }
      ]
    },
    {
      "cell_type": "markdown",
      "metadata": {
        "id": "NC_oSDljAocA"
      },
      "source": [
        "* Matrix Multiplication in NumPy"
      ]
    },
    {
      "cell_type": "code",
      "metadata": {
        "colab": {
          "base_uri": "https://localhost:8080/"
        },
        "id": "bpFh_X9lAoiS",
        "outputId": "2c0e689b-261d-492e-c8c8-48fca10d896a"
      },
      "source": [
        "m1 = np.array([[1,2,3],[4,5,6],[7,8,9]])\n",
        "m2 = np.array([[9,8,7,6],[5,4,3,3],[2,1,2,0]])\n",
        "\n",
        "m3 = np.matmul(m1,m2)\n",
        "print(m3)"
      ],
      "execution_count": 192,
      "outputs": [
        {
          "output_type": "stream",
          "text": [
            "[[ 25  19  19  12]\n",
            " [ 73  58  55  39]\n",
            " [121  97  91  66]]\n"
          ],
          "name": "stdout"
        }
      ]
    },
    {
      "cell_type": "markdown",
      "metadata": {
        "id": "w3d9SI7VAoow"
      },
      "source": [
        "* Get the eigen values of a matrix"
      ]
    },
    {
      "cell_type": "code",
      "metadata": {
        "id": "SB0ffgtlAovH"
      },
      "source": [
        ""
      ],
      "execution_count": null,
      "outputs": []
    },
    {
      "cell_type": "markdown",
      "metadata": {
        "id": "uI-qEyw2Ao0F"
      },
      "source": [
        "* How to Calculate the determinant of a matrix using NumPy?"
      ]
    },
    {
      "cell_type": "code",
      "metadata": {
        "id": "crbGuqbpAo6i"
      },
      "source": [
        ""
      ],
      "execution_count": null,
      "outputs": []
    },
    {
      "cell_type": "markdown",
      "metadata": {
        "id": "ZvYK5C6gAo_5"
      },
      "source": [
        "* How to inverse a matrix using NumPy"
      ]
    },
    {
      "cell_type": "code",
      "metadata": {
        "id": "qIUBYaE4ApHv"
      },
      "source": [
        ""
      ],
      "execution_count": null,
      "outputs": []
    },
    {
      "cell_type": "markdown",
      "metadata": {
        "id": "Ri2aMwUkApNs"
      },
      "source": [
        "* How to count the frequency of unique values in NumPy array?"
      ]
    },
    {
      "cell_type": "code",
      "metadata": {
        "id": "_w6UxykxBHc9"
      },
      "source": [
        ""
      ],
      "execution_count": null,
      "outputs": []
    },
    {
      "cell_type": "markdown",
      "metadata": {
        "id": "qm7ccKXxBHki"
      },
      "source": [
        "* Multiply matrices of complex numbers using NumPy in Python"
      ]
    },
    {
      "cell_type": "code",
      "metadata": {
        "id": "daGEOOPCBHrF"
      },
      "source": [
        ""
      ],
      "execution_count": null,
      "outputs": []
    },
    {
      "cell_type": "markdown",
      "metadata": {
        "id": "PqJXKoWjBHxK"
      },
      "source": [
        "* Compute the outer product of two given vectors using NumPy in Python"
      ]
    },
    {
      "cell_type": "code",
      "metadata": {
        "id": "4T1KgZG5BH4U"
      },
      "source": [
        ""
      ],
      "execution_count": null,
      "outputs": []
    },
    {
      "cell_type": "markdown",
      "metadata": {
        "id": "e8P9dDzHBH_b"
      },
      "source": [
        "* Calculate inner, outer, and cross products of matrices and vectors using NumPy"
      ]
    },
    {
      "cell_type": "code",
      "metadata": {
        "id": "c19VvJlqBIGj"
      },
      "source": [
        ""
      ],
      "execution_count": null,
      "outputs": []
    },
    {
      "cell_type": "markdown",
      "metadata": {
        "id": "BXCYJPG5BIRb"
      },
      "source": [
        "* Compute the covariance matrix of two given NumPy arrays"
      ]
    },
    {
      "cell_type": "code",
      "metadata": {
        "id": "oFZrbwHqBIbb"
      },
      "source": [
        ""
      ],
      "execution_count": null,
      "outputs": []
    },
    {
      "cell_type": "markdown",
      "metadata": {
        "id": "xEwqjOKKBIjV"
      },
      "source": [
        "* Convert covariance matrix to correlation matrix using Python"
      ]
    },
    {
      "cell_type": "code",
      "metadata": {
        "id": "W5gNNOGmBIsd"
      },
      "source": [
        ""
      ],
      "execution_count": null,
      "outputs": []
    },
    {
      "cell_type": "markdown",
      "metadata": {
        "id": "p1ifJ2K7B6pl"
      },
      "source": [
        "* Compute the Kronecker product of two mulitdimension NumPy arrays"
      ]
    },
    {
      "cell_type": "code",
      "metadata": {
        "id": "vdYMWn_yB64T"
      },
      "source": [
        ""
      ],
      "execution_count": null,
      "outputs": []
    },
    {
      "cell_type": "markdown",
      "metadata": {
        "id": "4XEVRhWkB7L7"
      },
      "source": [
        "* Convert the matrix into a list"
      ]
    },
    {
      "cell_type": "code",
      "metadata": {
        "id": "xni5GPk7B7VT"
      },
      "source": [
        ""
      ],
      "execution_count": null,
      "outputs": []
    }
  ]
}